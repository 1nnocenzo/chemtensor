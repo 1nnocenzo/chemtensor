{
 "cells": [
  {
   "cell_type": "markdown",
   "metadata": {},
   "source": [
    "# Water molecule"
   ]
  },
  {
   "cell_type": "markdown",
   "metadata": {},
   "source": [
    "This notebook demonstrates how to combine `pyscf` with the DMRG implementation in `chemtensor` for approximating the ground state of the water molecule."
   ]
  },
  {
   "cell_type": "code",
   "execution_count": 1,
   "metadata": {},
   "outputs": [],
   "source": [
    "import numpy as np\n",
    "\n",
    "# For simplicty, we locate the compiled module library in the build folder.\n",
    "# In the future, it will be installed as part of a Python package.\n",
    "import sys\n",
    "sys.path.append(\"../../build/\")\n",
    "import chemtensor\n",
    "\n",
    "# pyscf (https://pyscf.org/) can define a molecular basis, compute overlap integrals and run other computational methods for comparison.\n",
    "import pyscf"
   ]
  },
  {
   "cell_type": "markdown",
   "metadata": {},
   "source": [
    "### Define the molecule and perform reference calculations"
   ]
  },
  {
   "cell_type": "code",
   "execution_count": 2,
   "metadata": {},
   "outputs": [],
   "source": [
    "h2o_atoms = [\n",
    "    [\"O\", ( 0.,   0.,   0.)],\n",
    "    [\"H\", ( 0.75, 0.47, 0.)],\n",
    "    [\"H\", (-0.75, 0.47, 0.)],\n",
    "]\n",
    "mol = pyscf.M(atom=h2o_atoms, basis=\"sto-3g\")"
   ]
  },
  {
   "cell_type": "code",
   "execution_count": 3,
   "metadata": {},
   "outputs": [
    {
     "name": "stdout",
     "output_type": "stream",
     "text": [
      "converged SCF energy = -74.9307084821\n"
     ]
    }
   ],
   "source": [
    "# run Hartree-Fock\n",
    "hf = mol.HF().run()"
   ]
  },
  {
   "cell_type": "code",
   "execution_count": 4,
   "metadata": {},
   "outputs": [
    {
     "name": "stdout",
     "output_type": "stream",
     "text": [
      "E(CCSD) = -74.97016403895398  E_corr = -0.03945555685402184\n"
     ]
    },
    {
     "data": {
      "text/plain": [
       "-74.97016403895398"
      ]
     },
     "execution_count": 4,
     "metadata": {},
     "output_type": "execute_result"
    }
   ],
   "source": [
    "\n",
    "# run coupled-cluster with single and double excitations (CCSD), for comparison\n",
    "ccsd = pyscf.cc.CCSD(hf).run()\n",
    "ccsd.e_tot"
   ]
  },
  {
   "cell_type": "code",
   "execution_count": 5,
   "metadata": {},
   "outputs": [
    {
     "data": {
      "text/plain": [
       "-74.9702726895936"
      ]
     },
     "execution_count": 5,
     "metadata": {},
     "output_type": "execute_result"
    }
   ],
   "source": [
    "# run full configuration interaction (FCI)\n",
    "fcisolver = pyscf.fci.FCI(hf)\n",
    "en_fci, _ = fcisolver.kernel()\n",
    "en_fci"
   ]
  },
  {
   "cell_type": "markdown",
   "metadata": {},
   "source": [
    "### Electron overlap integrals"
   ]
  },
  {
   "cell_type": "code",
   "execution_count": 6,
   "metadata": {},
   "outputs": [],
   "source": [
    "def spatial_to_spin_overlap_integrals(h1, h2):\n",
    "    \"\"\"\n",
    "    Enlarge the single- and two-particle electron overlap integral tensors\n",
    "    from an orbital basis without spin to a spin-orbital basis.\n",
    "    \"\"\"\n",
    "    h1 = np.asarray(h1)\n",
    "    h2 = np.asarray(h2)\n",
    "\n",
    "    n = h1.shape[0]\n",
    "    assert h1.shape == (n, n)\n",
    "    assert h2.shape == (n, n, n, n)\n",
    "\n",
    "    # single-particle integrals\n",
    "    h1_so = np.kron(np.eye(2), h1)\n",
    "\n",
    "    # two-particle integrals\n",
    "    tmp = np.zeros((2*n, 2*n, n, n))\n",
    "    for i in range(n):\n",
    "        for j in range(n):\n",
    "            tmp[:, :, i, j] = np.kron(np.eye(2), h2[:,:, i, j])\n",
    "    h2_so = np.zeros((2*n, 2*n, 2*n, 2*n))\n",
    "    for i in range(2*n):\n",
    "        for j in range(2*n):\n",
    "            h2_so[i, j, :, :] = np.kron(np.eye(2), tmp[i, j, :, :])\n",
    "\n",
    "    return h1_so, h2_so"
   ]
  },
  {
   "cell_type": "code",
   "execution_count": 7,
   "metadata": {},
   "outputs": [
    {
     "name": "stdout",
     "output_type": "stream",
     "text": [
      "converged SCF energy = -74.9307084820999\n"
     ]
    }
   ],
   "source": [
    "# overlap integrals in atomic basis\n",
    "h1_ao = mol.get_hcore()  # == mol.intor(\"int1e_kin\") + mol.intor(\"int1e_nuc\")\n",
    "eri_ao = mol.intor(\"int2e\")"
   ]
  },
  {
   "cell_type": "code",
   "execution_count": 8,
   "metadata": {},
   "outputs": [
    {
     "name": "stdout",
     "output_type": "stream",
     "text": [
      "(7, 7)\n",
      "(7, 7, 7, 7)\n"
     ]
    }
   ],
   "source": [
    "# transform to molecular orbital basis\n",
    "h1_mo = np.einsum(\"pi,pq,qj->ij\", hf.mo_coeff, h1_ao, hf.mo_coeff)\n",
    "eri_mo = pyscf.ao2mo.kernel(eri_ao, hf.mo_coeff)\n",
    "print(h1_mo.shape)\n",
    "print(eri_mo.shape)"
   ]
  },
  {
   "cell_type": "code",
   "execution_count": 9,
   "metadata": {},
   "outputs": [
    {
     "name": "stdout",
     "output_type": "stream",
     "text": [
      "(14, 14)\n",
      "(14, 14, 14, 14)\n"
     ]
    }
   ],
   "source": [
    "# extend to spin-orbitals\n",
    "h1_so, eri_so = spatial_to_spin_overlap_integrals(h1_mo, eri_mo)\n",
    "print(h1_so.shape)\n",
    "print(eri_so.shape)"
   ]
  },
  {
   "cell_type": "code",
   "execution_count": 10,
   "metadata": {},
   "outputs": [],
   "source": [
    "# convert to physicists' convention\n",
    "tkin = h1_so\n",
    "vint = np.transpose(eri_so, (0, 2, 1, 3))"
   ]
  },
  {
   "cell_type": "markdown",
   "metadata": {},
   "source": [
    "### Construct Hamiltonian as MPO and run two-site DMRG"
   ]
  },
  {
   "cell_type": "code",
   "execution_count": 11,
   "metadata": {},
   "outputs": [
    {
     "data": {
      "text/plain": [
       "[1, 4, 16, 31, 38, 43, 52, 51, 52, 43, 38, 31, 16, 4, 1]"
      ]
     },
     "execution_count": 11,
     "metadata": {},
     "output_type": "execute_result"
    }
   ],
   "source": [
    "hamiltonian = chemtensor.construct_molecular_hamiltonian_mpo(tkin, vint, optimize=True)\n",
    "# virtual bond dimensions\n",
    "hamiltonian.bond_dims"
   ]
  },
  {
   "cell_type": "code",
   "execution_count": 12,
   "metadata": {},
   "outputs": [],
   "source": [
    "# number of electrons (determines quantum number sector)\n",
    "pnum = 10"
   ]
  },
  {
   "cell_type": "code",
   "execution_count": 13,
   "metadata": {},
   "outputs": [],
   "source": [
    "# run two-site DMRG\n",
    "psi, en_sweeps, entropy = chemtensor.dmrg(hamiltonian, num_sweeps=6, maxiter_lanczos=25, tol_split=1e-9, qnum_sector=pnum)"
   ]
  },
  {
   "cell_type": "markdown",
   "metadata": {},
   "source": [
    "### Evaluate results"
   ]
  },
  {
   "cell_type": "code",
   "execution_count": 14,
   "metadata": {},
   "outputs": [
    {
     "data": {
      "text/plain": [
       "[1, 2, 4, 7, 10, 14, 19, 19, 20, 16, 11, 7, 4, 2, 1]"
      ]
     },
     "execution_count": 14,
     "metadata": {},
     "output_type": "execute_result"
    }
   ],
   "source": [
    "# virtual bond dimensions of optimized MPS\n",
    "psi.bond_dims"
   ]
  },
  {
   "cell_type": "code",
   "execution_count": 15,
   "metadata": {},
   "outputs": [
    {
     "data": {
      "text/plain": [
       "[-84.88903443027432,\n",
       " -84.8890344313337,\n",
       " -84.88903443132047,\n",
       " -84.88903443131844,\n",
       " -84.88903443131815,\n",
       " -84.88903443131794]"
      ]
     },
     "execution_count": 15,
     "metadata": {},
     "output_type": "execute_result"
    }
   ],
   "source": [
    "# energy after each DMRG sweep\n",
    "en_sweeps"
   ]
  },
  {
   "cell_type": "code",
   "execution_count": 16,
   "metadata": {},
   "outputs": [
    {
     "data": {
      "text/plain": [
       "-74.97027263097696"
      ]
     },
     "execution_count": 16,
     "metadata": {},
     "output_type": "execute_result"
    }
   ],
   "source": [
    "# add nuclear repulsion energy\n",
    "en_dmrg = en_sweeps[-1] + hf.energy_nuc()\n",
    "en_dmrg"
   ]
  },
  {
   "cell_type": "code",
   "execution_count": 17,
   "metadata": {},
   "outputs": [
    {
     "data": {
      "text/plain": [
       "0.00010859202298263426"
      ]
     },
     "execution_count": 17,
     "metadata": {},
     "output_type": "execute_result"
    }
   ],
   "source": [
    "# difference to CCSD energy\n",
    "ccsd.e_tot - en_dmrg"
   ]
  },
  {
   "cell_type": "code",
   "execution_count": 18,
   "metadata": {},
   "outputs": [
    {
     "data": {
      "text/plain": [
       "5.8616635101316206e-08"
      ]
     },
     "execution_count": 18,
     "metadata": {},
     "output_type": "execute_result"
    }
   ],
   "source": [
    "# difference to FCI energy\n",
    "en_dmrg - en_fci"
   ]
  },
  {
   "cell_type": "code",
   "execution_count": null,
   "metadata": {},
   "outputs": [],
   "source": []
  }
 ],
 "metadata": {
  "kernelspec": {
   "display_name": "Python 3",
   "language": "python",
   "name": "python3"
  },
  "language_info": {
   "codemirror_mode": {
    "name": "ipython",
    "version": 3
   },
   "file_extension": ".py",
   "mimetype": "text/x-python",
   "name": "python",
   "nbconvert_exporter": "python",
   "pygments_lexer": "ipython3",
   "version": "3.10.12"
  }
 },
 "nbformat": 4,
 "nbformat_minor": 2
}
